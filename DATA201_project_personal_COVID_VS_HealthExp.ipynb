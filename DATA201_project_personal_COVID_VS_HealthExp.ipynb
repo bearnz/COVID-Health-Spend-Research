{
  "nbformat": 4,
  "nbformat_minor": 0,
  "metadata": {
    "colab": {
      "name": "DATA201_project_personal_COVID_VS_HealthExp.ipynb",
      "provenance": [],
      "collapsed_sections": []
    },
    "kernelspec": {
      "name": "ir",
      "display_name": "R"
    }
  },
  "cells": [
    {
      "cell_type": "markdown",
      "metadata": {
        "id": "cuK-SqLjvzyw"
      },
      "source": [
        "DATA201 project\n",
        "\n",
        "Author: Josh Smith\n",
        "\n",
        "This overall goal of this group project was to scrape data from various sources around the web and wrangle the resulting data into a usable dataframe, which can be joined to other tables and/or subsequently analysed.\n",
        "\n",
        "For my section of the project, I scraped daily COVID-19 case data from the WHO website, as well as annual health expenditure around the world from the UN data repository. The goal of this was to determine if there was any correlation between a countries response to COVID-19 and the funding level of their health system. \n",
        "\n",
        "Data sources:\n",
        "*   https://covid19.who.int/table\n",
        "*   https://data.un.org/"
      ]
    },
    {
      "cell_type": "markdown",
      "metadata": {
        "id": "u1y3YomplMbQ"
      },
      "source": [
        "Load builtin libraries"
      ]
    },
    {
      "cell_type": "code",
      "metadata": {
        "id": "fcVZfCGEqzhn",
        "outputId": "1d9b8ef2-e8f5-4564-c3ec-ad806519611f",
        "colab": {
          "base_uri": "https://localhost:8080/"
        }
      },
      "source": [
        "library(tidyverse)\n",
        "library(magrittr)\n",
        "library(purrr)\n",
        "library(glue)\n",
        "library(stringr)\n",
        "library(rvest)"
      ],
      "execution_count": null,
      "outputs": [
        {
          "output_type": "stream",
          "text": [
            "── \u001b[1mAttaching packages\u001b[22m ─────────────────────────────────────── tidyverse 1.3.0 ──\n",
            "\n",
            "\u001b[32m✔\u001b[39m \u001b[34mggplot2\u001b[39m 3.3.2     \u001b[32m✔\u001b[39m \u001b[34mpurrr  \u001b[39m 0.3.4\n",
            "\u001b[32m✔\u001b[39m \u001b[34mtibble \u001b[39m 3.0.4     \u001b[32m✔\u001b[39m \u001b[34mdplyr  \u001b[39m 1.0.2\n",
            "\u001b[32m✔\u001b[39m \u001b[34mtidyr  \u001b[39m 1.1.2     \u001b[32m✔\u001b[39m \u001b[34mstringr\u001b[39m 1.4.0\n",
            "\u001b[32m✔\u001b[39m \u001b[34mreadr  \u001b[39m 1.4.0     \u001b[32m✔\u001b[39m \u001b[34mforcats\u001b[39m 0.5.0\n",
            "\n",
            "── \u001b[1mConflicts\u001b[22m ────────────────────────────────────────── tidyverse_conflicts() ──\n",
            "\u001b[31m✖\u001b[39m \u001b[34mdplyr\u001b[39m::\u001b[32mfilter()\u001b[39m masks \u001b[34mstats\u001b[39m::filter()\n",
            "\u001b[31m✖\u001b[39m \u001b[34mdplyr\u001b[39m::\u001b[32mlag()\u001b[39m    masks \u001b[34mstats\u001b[39m::lag()\n",
            "\n",
            "\n",
            "Attaching package: ‘magrittr’\n",
            "\n",
            "\n",
            "The following object is masked from ‘package:purrr’:\n",
            "\n",
            "    set_names\n",
            "\n",
            "\n",
            "The following object is masked from ‘package:tidyr’:\n",
            "\n",
            "    extract\n",
            "\n",
            "\n",
            "\n",
            "Attaching package: ‘glue’\n",
            "\n",
            "\n",
            "The following object is masked from ‘package:dplyr’:\n",
            "\n",
            "    collapse\n",
            "\n",
            "\n",
            "Loading required package: xml2\n",
            "\n",
            "\n",
            "Attaching package: ‘rvest’\n",
            "\n",
            "\n",
            "The following object is masked from ‘package:purrr’:\n",
            "\n",
            "    pluck\n",
            "\n",
            "\n",
            "The following object is masked from ‘package:readr’:\n",
            "\n",
            "    guess_encoding\n",
            "\n",
            "\n"
          ],
          "name": "stderr"
        }
      ]
    },
    {
      "cell_type": "markdown",
      "metadata": {
        "id": "Kfk5d-SWlRDM"
      },
      "source": [
        "Install external libraries"
      ]
    },
    {
      "cell_type": "code",
      "metadata": {
        "id": "Os4idUIdj5M4",
        "outputId": "c2bf139e-4432-4374-9852-42b1072d7fe0",
        "colab": {
          "base_uri": "https://localhost:8080/"
        }
      },
      "source": [
        "install.packages(\"tidytext\")\n",
        "remotes::install_github(\"dmi3kno/polite\")"
      ],
      "execution_count": null,
      "outputs": [
        {
          "output_type": "stream",
          "text": [
            "Installing package into ‘/usr/local/lib/R/site-library’\n",
            "(as ‘lib’ is unspecified)\n",
            "\n",
            "also installing the dependencies ‘SnowballC’, ‘hunspell’, ‘tokenizers’, ‘janeaustenr’\n",
            "\n",
            "\n",
            "Downloading GitHub repo dmi3kno/polite@HEAD\n",
            "\n"
          ],
          "name": "stderr"
        },
        {
          "output_type": "stream",
          "text": [
            "backports    (1.1.10 -> 1.2.0 ) [CRAN]\n",
            "R6           (2.4.1  -> 2.5.0 ) [CRAN]\n",
            "parallelly   (NA     -> 1.21.0) [CRAN]\n",
            "listenv      (NA     -> 0.8.0 ) [CRAN]\n",
            "globals      (NA     -> 0.13.1) [CRAN]\n",
            "future       (NA     -> 1.20.1) [CRAN]\n",
            "future.apply (NA     -> 1.6.0 ) [CRAN]\n",
            "spiderbar    (NA     -> 0.2.3 ) [CRAN]\n",
            "robotstxt    (NA     -> 0.7.13) [CRAN]\n",
            "ratelimitr   (NA     -> 0.4.1 ) [CRAN]\n"
          ],
          "name": "stdout"
        },
        {
          "output_type": "stream",
          "text": [
            "Installing 10 packages: backports, R6, parallelly, listenv, globals, future, future.apply, spiderbar, robotstxt, ratelimitr\n",
            "\n",
            "Installing packages into ‘/usr/local/lib/R/site-library’\n",
            "(as ‘lib’ is unspecified)\n",
            "\n"
          ],
          "name": "stderr"
        },
        {
          "output_type": "stream",
          "text": [
            "\u001b[32m✔\u001b[39m  \u001b[90mchecking for file ‘/tmp/Rtmp1K39On/remotes3b22357fa3/dmi3kno-polite-15655f1/DESCRIPTION’\u001b[39m\u001b[36m\u001b[39m\n",
            "\u001b[90m─\u001b[39m\u001b[90m  \u001b[39m\u001b[90mpreparing ‘polite’:\u001b[39m\u001b[36m\u001b[39m\n",
            "\u001b[32m✔\u001b[39m  \u001b[90mchecking DESCRIPTION meta-information\u001b[39m\u001b[36m\u001b[39m\n",
            "\u001b[90m─\u001b[39m\u001b[90m  \u001b[39m\u001b[90mchecking for LF line-endings in source and make files and shell scripts\u001b[39m\u001b[36m\u001b[39m\n",
            "\u001b[90m─\u001b[39m\u001b[90m  \u001b[39m\u001b[90mchecking for empty or unneeded directories\u001b[39m\u001b[36m\u001b[39m\n",
            "\u001b[90m─\u001b[39m\u001b[90m  \u001b[39m\u001b[90mbuilding ‘polite_0.1.1.9020.tar.gz’\u001b[39m\u001b[36m\u001b[39m\n",
            "   \n"
          ],
          "name": "stdout"
        },
        {
          "output_type": "stream",
          "text": [
            "Installing package into ‘/usr/local/lib/R/site-library’\n",
            "(as ‘lib’ is unspecified)\n",
            "\n"
          ],
          "name": "stderr"
        }
      ]
    },
    {
      "cell_type": "markdown",
      "metadata": {
        "id": "N8npYNtElTtH"
      },
      "source": [
        "Load external libraries"
      ]
    },
    {
      "cell_type": "code",
      "metadata": {
        "id": "Qs9yNy8jum2E"
      },
      "source": [
        "library(tidytext)\n",
        "library(polite)"
      ],
      "execution_count": null,
      "outputs": []
    },
    {
      "cell_type": "code",
      "metadata": {
        "jupyter": {
          "outputs_hidden": true
        },
        "id": "BrZsVqjDGK8O"
      },
      "source": [
        "#This is the dataset for the COVID data from the WHO. \n",
        "#It is the daily case data that is reported by governments to the WHO. \n",
        "WHOcovid_url_title <- \"https://covid19.who.int/table\"\n",
        "WHOcovid_url_page <- read_html(WHOcovid_url_title)"
      ],
      "execution_count": null,
      "outputs": []
    },
    {
      "cell_type": "code",
      "metadata": {
        "jupyter": {
          "outputs_hidden": true
        },
        "id": "Kk2O61rEGK8Q"
      },
      "source": [
        "#This is the UN data repository which contains several datasets focused around\n",
        "#population and other socio-economic factors around the world\n",
        "UN_data_title <- \"https://data.un.org/\"\n",
        "UN_data_page <- read_html(UN_data_title)"
      ],
      "execution_count": null,
      "outputs": []
    },
    {
      "cell_type": "code",
      "metadata": {
        "jupyter": {
          "outputs_hidden": true
        },
        "id": "OLOx5n0OGK8T"
      },
      "source": [
        "#Scrape all .csv links in the WHO page\n",
        "WHOcovid_href_links <- WHOcovid_url_page %>%\n",
        "  html_nodes(\".sc-AxjAm > a\") %>%\n",
        "  html_attrs() %>%\n",
        "  map_chr(\"href\")"
      ],
      "execution_count": null,
      "outputs": []
    },
    {
      "cell_type": "code",
      "metadata": {
        "jupyter": {
          "outputs_hidden": true
        },
        "id": "NvkQSGvIGK8U"
      },
      "source": [
        "#Glue correct .csv link suffix to the WHO domain\n",
        "WHOcovid_url <- glue(\"https://covid19.who.int{WHOcovid_href_links[13]}\")"
      ],
      "execution_count": null,
      "outputs": []
    },
    {
      "cell_type": "code",
      "metadata": {
        "jupyter": {
          "outputs_hidden": true
        },
        "id": "A4l6Dd19GK8V",
        "outputId": "88751e28-a344-452a-c84d-740bd06aef71",
        "colab": {
          "base_uri": "https://localhost:8080/"
        }
      },
      "source": [
        "#Read the dataset from the WHO link and pipe into a local dataframe\n",
        "#Limit cumulative case results to be from a recent date\n",
        "covid_df = read_csv(WHOcovid_url) %>%\n",
        "  rename(date = Date_reported) %>%\n",
        "  filter(date == '2020-10-06') %>%\n",
        "  select(Country, Cumulative_cases)"
      ],
      "execution_count": null,
      "outputs": [
        {
          "output_type": "stream",
          "text": [
            "\n",
            "\u001b[36m──\u001b[39m \u001b[1m\u001b[1mColumn specification\u001b[1m\u001b[22m \u001b[36m────────────────────────────────────────────────────────\u001b[39m\n",
            "cols(\n",
            "  Date_reported = \u001b[34mcol_date(format = \"\")\u001b[39m,\n",
            "  Country_code = \u001b[31mcol_character()\u001b[39m,\n",
            "  Country = \u001b[31mcol_character()\u001b[39m,\n",
            "  WHO_region = \u001b[31mcol_character()\u001b[39m,\n",
            "  New_cases = \u001b[32mcol_double()\u001b[39m,\n",
            "  Cumulative_cases = \u001b[32mcol_double()\u001b[39m,\n",
            "  New_deaths = \u001b[32mcol_double()\u001b[39m,\n",
            "  Cumulative_deaths = \u001b[32mcol_double()\u001b[39m\n",
            ")\n",
            "\n",
            "\n"
          ],
          "name": "stderr"
        }
      ]
    },
    {
      "cell_type": "code",
      "metadata": {
        "jupyter": {
          "outputs_hidden": true
        },
        "id": "yM2_PIqtGK8X"
      },
      "source": [
        "#Scrape all links to .csv files from the UN data repository into a dataframe\n",
        "UN_data_href <- UN_data_page %>%\n",
        "  html_nodes(\".NoBullets > a\") %>%\n",
        "  html_attrs() %>%\n",
        "  map_chr(\"href\")"
      ],
      "execution_count": null,
      "outputs": []
    },
    {
      "cell_type": "code",
      "metadata": {
        "jupyter": {
          "outputs_hidden": true
        },
        "id": "gGLcKt7DGK8Z"
      },
      "source": [
        "#Convert dataframe to list format and convert health data URL string to suitable URL\n",
        "#format by stripping all whitespace characters\n",
        "UN_data_href %<>% as.list()\n",
        "UN_link_suffix <- UN_data_href[44] %>%\n",
        "  str_replace_all(\" \", \"%20\")"
      ],
      "execution_count": null,
      "outputs": []
    },
    {
      "cell_type": "code",
      "metadata": {
        "jupyter": {
          "outputs_hidden": true
        },
        "id": "Gb9OCl5fGK8a"
      },
      "source": [
        "#Glue the specified health data URL suffix to the UN domain\n",
        "health_url <- glue(\"https://data.un.org/{UN_link_suffix}\")\n",
        "#Convert the population data URL string to a suitable URL format \n",
        "Population_link_suffix <- UN_data_href[2] %>%\n",
        "  str_replace_all(\" \", \"%20\")\n",
        "#Glue URL suffix to UN domain\n",
        "Population_url <- glue(\"https://data.un.org/{Population_link_suffix}\")"
      ],
      "execution_count": null,
      "outputs": []
    },
    {
      "cell_type": "code",
      "metadata": {
        "jupyter": {
          "outputs_hidden": true
        },
        "id": "tCgrgD3GGK8b",
        "outputId": "ba0f77a7-d51c-4764-92fa-1eadcb7057a9",
        "colab": {
          "base_uri": "https://localhost:8080/"
        }
      },
      "source": [
        "#Read the population data csv file into a dataframe.\n",
        "#Rename columns with wrongly parsed column names.\n",
        "#Filter data so that there is only the most recent population numbers for each country.\n",
        "#Convert each population row to a numeric value\n",
        "#Convert each population row from being in Millions of people to the actual number. \n",
        "population_df <- read_csv(Population_url) %>%\n",
        " rename(Country = \"Population, density and surface area\") %>%\n",
        " rename(Year = X3) %>%\n",
        " rename(Series = X4) %>%\n",
        " rename(Population = X5) %>%\n",
        " filter(Year == \"2019\") %>%\n",
        " filter(Series == \"Population mid-year estimates (millions)\") %>%\n",
        " select(Country, Population) %>%\n",
        " mutate(Population = as.numeric(Population)) %>%\n",
        " mutate(Population = Population * 1000000)"
      ],
      "execution_count": null,
      "outputs": [
        {
          "output_type": "stream",
          "text": [
            "Warning message:\n",
            "“Missing column names filled in: 'X3' [3], 'X4' [4], 'X5' [5], 'X6' [6], 'X7' [7]”\n",
            "\n",
            "\u001b[36m──\u001b[39m \u001b[1m\u001b[1mColumn specification\u001b[1m\u001b[22m \u001b[36m────────────────────────────────────────────────────────\u001b[39m\n",
            "cols(\n",
            "  T02 = \u001b[31mcol_character()\u001b[39m,\n",
            "  `Population, density and surface area` = \u001b[31mcol_character()\u001b[39m,\n",
            "  X3 = \u001b[31mcol_character()\u001b[39m,\n",
            "  X4 = \u001b[31mcol_character()\u001b[39m,\n",
            "  X5 = \u001b[31mcol_character()\u001b[39m,\n",
            "  X6 = \u001b[31mcol_character()\u001b[39m,\n",
            "  X7 = \u001b[31mcol_character()\u001b[39m\n",
            ")\n",
            "\n",
            "\n"
          ],
          "name": "stderr"
        }
      ]
    },
    {
      "cell_type": "code",
      "metadata": {
        "jupyter": {
          "outputs_hidden": true
        },
        "id": "c9lNCnLVGK8d"
      },
      "source": [
        "#Join the population dataframe with the covid number dataframe, using the country name as a key\n",
        "#Mutate the dataframe to give the covid case numbers as a percentage of the total population size\n",
        "#instead of the raw numbers, this gives a proportional result of this data and allows\n",
        "#better comparisons between countries. \n",
        "covid_df_pct <- inner_join(\n",
        "  covid_df, population_df, by=\"Country\"\n",
        ") %>% mutate(Cases_Percent_Pop = Cumulative_cases / Population * 100) %>%\n",
        "  select(-Population)"
      ],
      "execution_count": null,
      "outputs": []
    },
    {
      "cell_type": "code",
      "metadata": {
        "jupyter": {
          "outputs_hidden": true
        },
        "id": "-XsYkm5FGK8f",
        "outputId": "b68e24a7-97a9-4162-808e-49426d40734a",
        "colab": {
          "base_uri": "https://localhost:8080/"
        }
      },
      "source": [
        "#Read the health expenditure data into a dataframe from the csv file\n",
        "#Rename columns with incorrectly parsed column names\n",
        "#Filter for the most recent result in the dataframe\n",
        "#Can filter between 2 different columns of data, depending on the interest of \n",
        "#whomever is analysing it\n",
        "#Convert health data column to a numeric format   \n",
        "health_df <- read_csv(health_url) %>%\n",
        "  rename(Year = X3) %>%\n",
        "  rename(Country = \"Expenditure on health\") %>%\n",
        "  rename(Category = X4) %>%\n",
        "  rename(Health_Spend_Percent_GDP = X5) %>%\n",
        "  filter(Year == 2017) %>%\n",
        "  # filter(Category == \"Current health expenditure (% of GDP)\") %>%\n",
        "  filter(Category == \"Domestic general government health expenditure (% of total government expenditure)\") %>%\n",
        "  mutate(Health_Spend_Percent_GDP = as.numeric(Health_Spend_Percent_GDP)) %>%\n",
        "  select(Country,Health_Spend_Percent_GDP)"
      ],
      "execution_count": null,
      "outputs": [
        {
          "output_type": "stream",
          "text": [
            "Warning message:\n",
            "“Missing column names filled in: 'X3' [3], 'X4' [4], 'X5' [5], 'X6' [6], 'X7' [7]”\n",
            "\n",
            "\u001b[36m──\u001b[39m \u001b[1m\u001b[1mColumn specification\u001b[1m\u001b[22m \u001b[36m────────────────────────────────────────────────────────\u001b[39m\n",
            "cols(\n",
            "  T11 = \u001b[31mcol_character()\u001b[39m,\n",
            "  `Expenditure on health` = \u001b[31mcol_character()\u001b[39m,\n",
            "  X3 = \u001b[31mcol_character()\u001b[39m,\n",
            "  X4 = \u001b[31mcol_character()\u001b[39m,\n",
            "  X5 = \u001b[31mcol_character()\u001b[39m,\n",
            "  X6 = \u001b[31mcol_character()\u001b[39m,\n",
            "  X7 = \u001b[31mcol_character()\u001b[39m\n",
            ")\n",
            "\n",
            "\n"
          ],
          "name": "stderr"
        }
      ]
    },
    {
      "cell_type": "code",
      "metadata": {
        "jupyter": {
          "outputs_hidden": true
        },
        "id": "it8sP0DmGK8g",
        "outputId": "bd6b42a8-47ae-4d8a-8af3-d126e1436d62",
        "colab": {
          "base_uri": "https://localhost:8080/",
          "height": 1000
        }
      },
      "source": [
        "#Join the covid dataframe on the health expenditure dataframe, using the country as a key\n",
        "#Omit any resulting na values\n",
        "covid_health_spend_tables <- right_join(\n",
        "  covid_df_pct, health_df, by=\"Country\"\n",
        "  ) %>% na.omit()\n",
        "covid_health_spend_tables"
      ],
      "execution_count": null,
      "outputs": [
        {
          "output_type": "display_data",
          "data": {
            "text/plain": [
              "    Country                  Cumulative_cases Cases_Percent_Pop\n",
              "1   Afghanistan                39572          0.104022417      \n",
              "2   Albania                    14410          0.500190913      \n",
              "3   Algeria                    52270          0.121408215      \n",
              "4   Andorra                     2370          3.073929961      \n",
              "5   Angola                      5530          0.017376113      \n",
              "6   Antigua and Barbuda          107          0.110195675      \n",
              "7   Argentina                 798486          1.783102989      \n",
              "8   Armenia                    53083          1.794739155      \n",
              "9   Australia                  27149          0.107720448      \n",
              "10  Austria                    49886          0.557068039      \n",
              "11  Azerbaijan                 40788          0.405943649      \n",
              "12  Bahamas                     4452          1.143003851      \n",
              "13  Bahrain                    73116          4.455032903      \n",
              "14  Bangladesh                370132          0.227010504      \n",
              "15  Barbados                     199          0.069337979      \n",
              "16  Belarus                    80696          0.853709111      \n",
              "17  Belgium                   140721          1.219493383      \n",
              "18  Belize                      2196          0.562500000      \n",
              "19  Benin                       2357          0.019972545      \n",
              "20  Bhutan                       299          0.039182283      \n",
              "21  Bosnia and Herzegovina     28446          0.861738867      \n",
              "22  Botswana                    3172          0.137691540      \n",
              "23  Brazil                   4915289          2.328974482      \n",
              "24  Brunei Darussalam            146          0.033694900      \n",
              "25  Bulgaria                   21870          0.312424108      \n",
              "26  Burkina Faso                2167          0.010663635      \n",
              "27  Burundi                      514          0.004457704      \n",
              "28  Cabo Verde                  6433          1.169849063      \n",
              "29  Cambodia                     280          0.001698359      \n",
              "30  Cameroon                   20924          0.080861325      \n",
              "⋮   ⋮                        ⋮                ⋮                \n",
              "149 Slovenia                    6574          0.3162553519     \n",
              "150 Solomon Islands                1          0.0001492983     \n",
              "151 South Africa              682215          1.1650184517     \n",
              "152 South Sudan                 2734          0.0247150179     \n",
              "153 Spain                     830092          1.7760993478     \n",
              "154 Sri Lanka                   3733          0.0175063427     \n",
              "155 Sudan                      13668          0.0319247335     \n",
              "156 Suriname                    4941          0.8498452012     \n",
              "157 Sweden                     96169          0.9582021442     \n",
              "158 Switzerland                55803          0.6495216146     \n",
              "159 Tajikistan                  9974          0.1070056861     \n",
              "160 Thailand                    3600          0.0051705120     \n",
              "161 Timor-Leste                   28          0.0021653391     \n",
              "162 Togo                        1864          0.0230624567     \n",
              "163 Tonga                          0          0.0000000000     \n",
              "164 Trinidad and Tobago         4766          0.3416487455     \n",
              "165 Tunisia                    25765          0.2203134753     \n",
              "166 Turkey                    326046          0.3908037435     \n",
              "167 Turkmenistan                   0          0.0000000000     \n",
              "168 Tuvalu                         0          0.0000000000     \n",
              "169 Uganda                      8965          0.0202509171     \n",
              "170 Ukraine                   234584          0.5332230143     \n",
              "171 United Arab Emirates       99733          1.0207563584     \n",
              "172 United States of America 7341406          2.2309903001     \n",
              "173 Uruguay                     2145          0.0619637750     \n",
              "174 Uzbekistan                 59197          0.1794843807     \n",
              "175 Vanuatu                        0          0.0000000000     \n",
              "176 Viet Nam                    1097          0.0011372342     \n",
              "177 Zambia                     15089          0.0844801523     \n",
              "178 Zimbabwe                    7898          0.0539278277     \n",
              "    Health_Spend_Percent_GDP\n",
              "1    2.3191                 \n",
              "2   14.6789                 \n",
              "3   10.7341                 \n",
              "4   14.0176                 \n",
              "5    5.4284                 \n",
              "6    9.4786                 \n",
              "7   16.0513                 \n",
              "8    5.2735                 \n",
              "9   17.7973                 \n",
              "10  15.3054                 \n",
              "11   2.8143                 \n",
              "12  11.2508                 \n",
              "13   8.4938                 \n",
              "14   2.9945                 \n",
              "15   9.0803                 \n",
              "16  10.6191                 \n",
              "17  15.3139                 \n",
              "18  10.9910                 \n",
              "19   4.5752                 \n",
              "20   7.9006                 \n",
              "21  15.4748                 \n",
              "22  14.3155                 \n",
              "23  10.2553                 \n",
              "24   6.1533                 \n",
              "25  11.9860                 \n",
              "26   9.9915                 \n",
              "27   8.5214                 \n",
              "28   9.8551                 \n",
              "29   6.0787                 \n",
              "30   3.1372                 \n",
              "⋮   ⋮                       \n",
              "149 13.6175                 \n",
              "150  7.1658                 \n",
              "151 13.3386                 \n",
              "152  2.1062                 \n",
              "153 15.2847                 \n",
              "154  8.4724                 \n",
              "155  8.2841                 \n",
              "156 11.7768                 \n",
              "157 18.6949                 \n",
              "158 11.0236                 \n",
              "159  5.8841                 \n",
              "160 15.0278                 \n",
              "161  5.1873                 \n",
              "162  5.0529                 \n",
              "163  7.3840                 \n",
              "164 11.2112                 \n",
              "165 13.6278                 \n",
              "166  9.6890                 \n",
              "167  8.7139                 \n",
              "168 10.0000                 \n",
              "169  5.1353                 \n",
              "170  7.4239                 \n",
              "171  7.8905                 \n",
              "172 22.5492                 \n",
              "173 19.7755                 \n",
              "174 10.1703                 \n",
              "175  5.3016                 \n",
              "176  9.4756                 \n",
              "177  6.8567                 \n",
              "178 15.2343                 "
            ],
            "text/latex": "A tibble: 178 × 4\n\\begin{tabular}{llll}\n Country & Cumulative\\_cases & Cases\\_Percent\\_Pop & Health\\_Spend\\_Percent\\_GDP\\\\\n <chr> & <dbl> & <dbl> & <dbl>\\\\\n\\hline\n\t Afghanistan            &   39572 & 0.104022417 &  2.3191\\\\\n\t Albania                &   14410 & 0.500190913 & 14.6789\\\\\n\t Algeria                &   52270 & 0.121408215 & 10.7341\\\\\n\t Andorra                &    2370 & 3.073929961 & 14.0176\\\\\n\t Angola                 &    5530 & 0.017376113 &  5.4284\\\\\n\t Antigua and Barbuda    &     107 & 0.110195675 &  9.4786\\\\\n\t Argentina              &  798486 & 1.783102989 & 16.0513\\\\\n\t Armenia                &   53083 & 1.794739155 &  5.2735\\\\\n\t Australia              &   27149 & 0.107720448 & 17.7973\\\\\n\t Austria                &   49886 & 0.557068039 & 15.3054\\\\\n\t Azerbaijan             &   40788 & 0.405943649 &  2.8143\\\\\n\t Bahamas                &    4452 & 1.143003851 & 11.2508\\\\\n\t Bahrain                &   73116 & 4.455032903 &  8.4938\\\\\n\t Bangladesh             &  370132 & 0.227010504 &  2.9945\\\\\n\t Barbados               &     199 & 0.069337979 &  9.0803\\\\\n\t Belarus                &   80696 & 0.853709111 & 10.6191\\\\\n\t Belgium                &  140721 & 1.219493383 & 15.3139\\\\\n\t Belize                 &    2196 & 0.562500000 & 10.9910\\\\\n\t Benin                  &    2357 & 0.019972545 &  4.5752\\\\\n\t Bhutan                 &     299 & 0.039182283 &  7.9006\\\\\n\t Bosnia and Herzegovina &   28446 & 0.861738867 & 15.4748\\\\\n\t Botswana               &    3172 & 0.137691540 & 14.3155\\\\\n\t Brazil                 & 4915289 & 2.328974482 & 10.2553\\\\\n\t Brunei Darussalam      &     146 & 0.033694900 &  6.1533\\\\\n\t Bulgaria               &   21870 & 0.312424108 & 11.9860\\\\\n\t Burkina Faso           &    2167 & 0.010663635 &  9.9915\\\\\n\t Burundi                &     514 & 0.004457704 &  8.5214\\\\\n\t Cabo Verde             &    6433 & 1.169849063 &  9.8551\\\\\n\t Cambodia               &     280 & 0.001698359 &  6.0787\\\\\n\t Cameroon               &   20924 & 0.080861325 &  3.1372\\\\\n\t ⋮ & ⋮ & ⋮ & ⋮\\\\\n\t Slovenia                 &    6574 & 0.3162553519 & 13.6175\\\\\n\t Solomon Islands          &       1 & 0.0001492983 &  7.1658\\\\\n\t South Africa             &  682215 & 1.1650184517 & 13.3386\\\\\n\t South Sudan              &    2734 & 0.0247150179 &  2.1062\\\\\n\t Spain                    &  830092 & 1.7760993478 & 15.2847\\\\\n\t Sri Lanka                &    3733 & 0.0175063427 &  8.4724\\\\\n\t Sudan                    &   13668 & 0.0319247335 &  8.2841\\\\\n\t Suriname                 &    4941 & 0.8498452012 & 11.7768\\\\\n\t Sweden                   &   96169 & 0.9582021442 & 18.6949\\\\\n\t Switzerland              &   55803 & 0.6495216146 & 11.0236\\\\\n\t Tajikistan               &    9974 & 0.1070056861 &  5.8841\\\\\n\t Thailand                 &    3600 & 0.0051705120 & 15.0278\\\\\n\t Timor-Leste              &      28 & 0.0021653391 &  5.1873\\\\\n\t Togo                     &    1864 & 0.0230624567 &  5.0529\\\\\n\t Tonga                    &       0 & 0.0000000000 &  7.3840\\\\\n\t Trinidad and Tobago      &    4766 & 0.3416487455 & 11.2112\\\\\n\t Tunisia                  &   25765 & 0.2203134753 & 13.6278\\\\\n\t Turkey                   &  326046 & 0.3908037435 &  9.6890\\\\\n\t Turkmenistan             &       0 & 0.0000000000 &  8.7139\\\\\n\t Tuvalu                   &       0 & 0.0000000000 & 10.0000\\\\\n\t Uganda                   &    8965 & 0.0202509171 &  5.1353\\\\\n\t Ukraine                  &  234584 & 0.5332230143 &  7.4239\\\\\n\t United Arab Emirates     &   99733 & 1.0207563584 &  7.8905\\\\\n\t United States of America & 7341406 & 2.2309903001 & 22.5492\\\\\n\t Uruguay                  &    2145 & 0.0619637750 & 19.7755\\\\\n\t Uzbekistan               &   59197 & 0.1794843807 & 10.1703\\\\\n\t Vanuatu                  &       0 & 0.0000000000 &  5.3016\\\\\n\t Viet Nam                 &    1097 & 0.0011372342 &  9.4756\\\\\n\t Zambia                   &   15089 & 0.0844801523 &  6.8567\\\\\n\t Zimbabwe                 &    7898 & 0.0539278277 & 15.2343\\\\\n\\end{tabular}\n",
            "text/markdown": "\nA tibble: 178 × 4\n\n| Country &lt;chr&gt; | Cumulative_cases &lt;dbl&gt; | Cases_Percent_Pop &lt;dbl&gt; | Health_Spend_Percent_GDP &lt;dbl&gt; |\n|---|---|---|---|\n| Afghanistan            |   39572 | 0.104022417 |  2.3191 |\n| Albania                |   14410 | 0.500190913 | 14.6789 |\n| Algeria                |   52270 | 0.121408215 | 10.7341 |\n| Andorra                |    2370 | 3.073929961 | 14.0176 |\n| Angola                 |    5530 | 0.017376113 |  5.4284 |\n| Antigua and Barbuda    |     107 | 0.110195675 |  9.4786 |\n| Argentina              |  798486 | 1.783102989 | 16.0513 |\n| Armenia                |   53083 | 1.794739155 |  5.2735 |\n| Australia              |   27149 | 0.107720448 | 17.7973 |\n| Austria                |   49886 | 0.557068039 | 15.3054 |\n| Azerbaijan             |   40788 | 0.405943649 |  2.8143 |\n| Bahamas                |    4452 | 1.143003851 | 11.2508 |\n| Bahrain                |   73116 | 4.455032903 |  8.4938 |\n| Bangladesh             |  370132 | 0.227010504 |  2.9945 |\n| Barbados               |     199 | 0.069337979 |  9.0803 |\n| Belarus                |   80696 | 0.853709111 | 10.6191 |\n| Belgium                |  140721 | 1.219493383 | 15.3139 |\n| Belize                 |    2196 | 0.562500000 | 10.9910 |\n| Benin                  |    2357 | 0.019972545 |  4.5752 |\n| Bhutan                 |     299 | 0.039182283 |  7.9006 |\n| Bosnia and Herzegovina |   28446 | 0.861738867 | 15.4748 |\n| Botswana               |    3172 | 0.137691540 | 14.3155 |\n| Brazil                 | 4915289 | 2.328974482 | 10.2553 |\n| Brunei Darussalam      |     146 | 0.033694900 |  6.1533 |\n| Bulgaria               |   21870 | 0.312424108 | 11.9860 |\n| Burkina Faso           |    2167 | 0.010663635 |  9.9915 |\n| Burundi                |     514 | 0.004457704 |  8.5214 |\n| Cabo Verde             |    6433 | 1.169849063 |  9.8551 |\n| Cambodia               |     280 | 0.001698359 |  6.0787 |\n| Cameroon               |   20924 | 0.080861325 |  3.1372 |\n| ⋮ | ⋮ | ⋮ | ⋮ |\n| Slovenia                 |    6574 | 0.3162553519 | 13.6175 |\n| Solomon Islands          |       1 | 0.0001492983 |  7.1658 |\n| South Africa             |  682215 | 1.1650184517 | 13.3386 |\n| South Sudan              |    2734 | 0.0247150179 |  2.1062 |\n| Spain                    |  830092 | 1.7760993478 | 15.2847 |\n| Sri Lanka                |    3733 | 0.0175063427 |  8.4724 |\n| Sudan                    |   13668 | 0.0319247335 |  8.2841 |\n| Suriname                 |    4941 | 0.8498452012 | 11.7768 |\n| Sweden                   |   96169 | 0.9582021442 | 18.6949 |\n| Switzerland              |   55803 | 0.6495216146 | 11.0236 |\n| Tajikistan               |    9974 | 0.1070056861 |  5.8841 |\n| Thailand                 |    3600 | 0.0051705120 | 15.0278 |\n| Timor-Leste              |      28 | 0.0021653391 |  5.1873 |\n| Togo                     |    1864 | 0.0230624567 |  5.0529 |\n| Tonga                    |       0 | 0.0000000000 |  7.3840 |\n| Trinidad and Tobago      |    4766 | 0.3416487455 | 11.2112 |\n| Tunisia                  |   25765 | 0.2203134753 | 13.6278 |\n| Turkey                   |  326046 | 0.3908037435 |  9.6890 |\n| Turkmenistan             |       0 | 0.0000000000 |  8.7139 |\n| Tuvalu                   |       0 | 0.0000000000 | 10.0000 |\n| Uganda                   |    8965 | 0.0202509171 |  5.1353 |\n| Ukraine                  |  234584 | 0.5332230143 |  7.4239 |\n| United Arab Emirates     |   99733 | 1.0207563584 |  7.8905 |\n| United States of America | 7341406 | 2.2309903001 | 22.5492 |\n| Uruguay                  |    2145 | 0.0619637750 | 19.7755 |\n| Uzbekistan               |   59197 | 0.1794843807 | 10.1703 |\n| Vanuatu                  |       0 | 0.0000000000 |  5.3016 |\n| Viet Nam                 |    1097 | 0.0011372342 |  9.4756 |\n| Zambia                   |   15089 | 0.0844801523 |  6.8567 |\n| Zimbabwe                 |    7898 | 0.0539278277 | 15.2343 |\n\n",
            "text/html": [
              "<table>\n",
              "<caption>A tibble: 178 × 4</caption>\n",
              "<thead>\n",
              "\t<tr><th scope=col>Country</th><th scope=col>Cumulative_cases</th><th scope=col>Cases_Percent_Pop</th><th scope=col>Health_Spend_Percent_GDP</th></tr>\n",
              "\t<tr><th scope=col>&lt;chr&gt;</th><th scope=col>&lt;dbl&gt;</th><th scope=col>&lt;dbl&gt;</th><th scope=col>&lt;dbl&gt;</th></tr>\n",
              "</thead>\n",
              "<tbody>\n",
              "\t<tr><td>Afghanistan           </td><td>  39572</td><td>0.104022417</td><td> 2.3191</td></tr>\n",
              "\t<tr><td>Albania               </td><td>  14410</td><td>0.500190913</td><td>14.6789</td></tr>\n",
              "\t<tr><td>Algeria               </td><td>  52270</td><td>0.121408215</td><td>10.7341</td></tr>\n",
              "\t<tr><td>Andorra               </td><td>   2370</td><td>3.073929961</td><td>14.0176</td></tr>\n",
              "\t<tr><td>Angola                </td><td>   5530</td><td>0.017376113</td><td> 5.4284</td></tr>\n",
              "\t<tr><td>Antigua and Barbuda   </td><td>    107</td><td>0.110195675</td><td> 9.4786</td></tr>\n",
              "\t<tr><td>Argentina             </td><td> 798486</td><td>1.783102989</td><td>16.0513</td></tr>\n",
              "\t<tr><td>Armenia               </td><td>  53083</td><td>1.794739155</td><td> 5.2735</td></tr>\n",
              "\t<tr><td>Australia             </td><td>  27149</td><td>0.107720448</td><td>17.7973</td></tr>\n",
              "\t<tr><td>Austria               </td><td>  49886</td><td>0.557068039</td><td>15.3054</td></tr>\n",
              "\t<tr><td>Azerbaijan            </td><td>  40788</td><td>0.405943649</td><td> 2.8143</td></tr>\n",
              "\t<tr><td>Bahamas               </td><td>   4452</td><td>1.143003851</td><td>11.2508</td></tr>\n",
              "\t<tr><td>Bahrain               </td><td>  73116</td><td>4.455032903</td><td> 8.4938</td></tr>\n",
              "\t<tr><td>Bangladesh            </td><td> 370132</td><td>0.227010504</td><td> 2.9945</td></tr>\n",
              "\t<tr><td>Barbados              </td><td>    199</td><td>0.069337979</td><td> 9.0803</td></tr>\n",
              "\t<tr><td>Belarus               </td><td>  80696</td><td>0.853709111</td><td>10.6191</td></tr>\n",
              "\t<tr><td>Belgium               </td><td> 140721</td><td>1.219493383</td><td>15.3139</td></tr>\n",
              "\t<tr><td>Belize                </td><td>   2196</td><td>0.562500000</td><td>10.9910</td></tr>\n",
              "\t<tr><td>Benin                 </td><td>   2357</td><td>0.019972545</td><td> 4.5752</td></tr>\n",
              "\t<tr><td>Bhutan                </td><td>    299</td><td>0.039182283</td><td> 7.9006</td></tr>\n",
              "\t<tr><td>Bosnia and Herzegovina</td><td>  28446</td><td>0.861738867</td><td>15.4748</td></tr>\n",
              "\t<tr><td>Botswana              </td><td>   3172</td><td>0.137691540</td><td>14.3155</td></tr>\n",
              "\t<tr><td>Brazil                </td><td>4915289</td><td>2.328974482</td><td>10.2553</td></tr>\n",
              "\t<tr><td>Brunei Darussalam     </td><td>    146</td><td>0.033694900</td><td> 6.1533</td></tr>\n",
              "\t<tr><td>Bulgaria              </td><td>  21870</td><td>0.312424108</td><td>11.9860</td></tr>\n",
              "\t<tr><td>Burkina Faso          </td><td>   2167</td><td>0.010663635</td><td> 9.9915</td></tr>\n",
              "\t<tr><td>Burundi               </td><td>    514</td><td>0.004457704</td><td> 8.5214</td></tr>\n",
              "\t<tr><td>Cabo Verde            </td><td>   6433</td><td>1.169849063</td><td> 9.8551</td></tr>\n",
              "\t<tr><td>Cambodia              </td><td>    280</td><td>0.001698359</td><td> 6.0787</td></tr>\n",
              "\t<tr><td>Cameroon              </td><td>  20924</td><td>0.080861325</td><td> 3.1372</td></tr>\n",
              "\t<tr><td>⋮</td><td>⋮</td><td>⋮</td><td>⋮</td></tr>\n",
              "\t<tr><td>Slovenia                </td><td>   6574</td><td>0.3162553519</td><td>13.6175</td></tr>\n",
              "\t<tr><td>Solomon Islands         </td><td>      1</td><td>0.0001492983</td><td> 7.1658</td></tr>\n",
              "\t<tr><td>South Africa            </td><td> 682215</td><td>1.1650184517</td><td>13.3386</td></tr>\n",
              "\t<tr><td>South Sudan             </td><td>   2734</td><td>0.0247150179</td><td> 2.1062</td></tr>\n",
              "\t<tr><td>Spain                   </td><td> 830092</td><td>1.7760993478</td><td>15.2847</td></tr>\n",
              "\t<tr><td>Sri Lanka               </td><td>   3733</td><td>0.0175063427</td><td> 8.4724</td></tr>\n",
              "\t<tr><td>Sudan                   </td><td>  13668</td><td>0.0319247335</td><td> 8.2841</td></tr>\n",
              "\t<tr><td>Suriname                </td><td>   4941</td><td>0.8498452012</td><td>11.7768</td></tr>\n",
              "\t<tr><td>Sweden                  </td><td>  96169</td><td>0.9582021442</td><td>18.6949</td></tr>\n",
              "\t<tr><td>Switzerland             </td><td>  55803</td><td>0.6495216146</td><td>11.0236</td></tr>\n",
              "\t<tr><td>Tajikistan              </td><td>   9974</td><td>0.1070056861</td><td> 5.8841</td></tr>\n",
              "\t<tr><td>Thailand                </td><td>   3600</td><td>0.0051705120</td><td>15.0278</td></tr>\n",
              "\t<tr><td>Timor-Leste             </td><td>     28</td><td>0.0021653391</td><td> 5.1873</td></tr>\n",
              "\t<tr><td>Togo                    </td><td>   1864</td><td>0.0230624567</td><td> 5.0529</td></tr>\n",
              "\t<tr><td>Tonga                   </td><td>      0</td><td>0.0000000000</td><td> 7.3840</td></tr>\n",
              "\t<tr><td>Trinidad and Tobago     </td><td>   4766</td><td>0.3416487455</td><td>11.2112</td></tr>\n",
              "\t<tr><td>Tunisia                 </td><td>  25765</td><td>0.2203134753</td><td>13.6278</td></tr>\n",
              "\t<tr><td>Turkey                  </td><td> 326046</td><td>0.3908037435</td><td> 9.6890</td></tr>\n",
              "\t<tr><td>Turkmenistan            </td><td>      0</td><td>0.0000000000</td><td> 8.7139</td></tr>\n",
              "\t<tr><td>Tuvalu                  </td><td>      0</td><td>0.0000000000</td><td>10.0000</td></tr>\n",
              "\t<tr><td>Uganda                  </td><td>   8965</td><td>0.0202509171</td><td> 5.1353</td></tr>\n",
              "\t<tr><td>Ukraine                 </td><td> 234584</td><td>0.5332230143</td><td> 7.4239</td></tr>\n",
              "\t<tr><td>United Arab Emirates    </td><td>  99733</td><td>1.0207563584</td><td> 7.8905</td></tr>\n",
              "\t<tr><td>United States of America</td><td>7341406</td><td>2.2309903001</td><td>22.5492</td></tr>\n",
              "\t<tr><td>Uruguay                 </td><td>   2145</td><td>0.0619637750</td><td>19.7755</td></tr>\n",
              "\t<tr><td>Uzbekistan              </td><td>  59197</td><td>0.1794843807</td><td>10.1703</td></tr>\n",
              "\t<tr><td>Vanuatu                 </td><td>      0</td><td>0.0000000000</td><td> 5.3016</td></tr>\n",
              "\t<tr><td>Viet Nam                </td><td>   1097</td><td>0.0011372342</td><td> 9.4756</td></tr>\n",
              "\t<tr><td>Zambia                  </td><td>  15089</td><td>0.0844801523</td><td> 6.8567</td></tr>\n",
              "\t<tr><td>Zimbabwe                </td><td>   7898</td><td>0.0539278277</td><td>15.2343</td></tr>\n",
              "</tbody>\n",
              "</table>\n"
            ]
          },
          "metadata": {
            "tags": []
          }
        }
      ]
    },
    {
      "cell_type": "code",
      "metadata": {
        "id": "zge2p95osVoR",
        "outputId": "3ec33e5b-0a45-4e3f-a1e7-bbb0f66791ca",
        "colab": {
          "base_uri": "https://localhost:8080/",
          "height": 1000
        }
      },
      "source": [
        "# Uncomment any of the following lines to sort the table by various variables\n",
        "ordered_df <- covid_health_spend_tables[with(covid_health_spend_tables, order(-Cases_Percent_Pop)), ]\n",
        "# ordered_df <- covid_health_spend_tables[with(covid_health_spend_tables, order(-Health_Spend_Percent_GDP)), ]\n",
        "ordered_df"
      ],
      "execution_count": null,
      "outputs": [
        {
          "output_type": "display_data",
          "data": {
            "text/plain": [
              "    Country                  Cumulative_cases Cases_Percent_Pop\n",
              "1   Qatar                     126692          4.4734296        \n",
              "2   Bahrain                    73116          4.4550329        \n",
              "3   Israel                    267848          3.1439773        \n",
              "4   Andorra                     2370          3.0739300        \n",
              "5   Panama                    115286          2.7149115        \n",
              "6   Kuwait                    107592          2.5573911        \n",
              "7   Peru                      828169          2.5473893        \n",
              "8   Chile                     471746          2.4891621        \n",
              "9   Brazil                   4915289          2.3289745        \n",
              "10  United States of America 7341406          2.2309903        \n",
              "11  San Marino                   751          2.2153392        \n",
              "12  Oman                      101814          2.0465126        \n",
              "13  Maldives                   10567          1.9900188        \n",
              "14  Armenia                    53083          1.7947392        \n",
              "15  Argentina                 798486          1.7831030        \n",
              "16  Spain                     830092          1.7760993        \n",
              "17  Colombia                  855052          1.6985741        \n",
              "18  Costa Rica                 80407          1.5929749        \n",
              "19  Luxembourg                  8925          1.4495696        \n",
              "20  Republic of Moldova        56901          1.4072911        \n",
              "21  Belgium                   140721          1.2194934        \n",
              "22  Cabo Verde                  6433          1.1698491        \n",
              "23  South Africa              682215          1.1650185        \n",
              "24  Bahamas                     4452          1.1430039        \n",
              "25  Dominican Republic        115054          1.0713660        \n",
              "26  United Arab Emirates       99733          1.0207564        \n",
              "27  Singapore                  57819          0.9961408        \n",
              "28  Iraq                      382949          0.9741820        \n",
              "29  Sweden                     96169          0.9582021        \n",
              "30  France                    598061          0.9182616        \n",
              "⋮   ⋮                        ⋮                ⋮                \n",
              "149 Benin                     2357            0.0199725452     \n",
              "150 Sri Lanka                 3733            0.0175063427     \n",
              "151 Angola                    5530            0.0173761127     \n",
              "152 Mali                      3189            0.0162224031     \n",
              "153 Saint Lucia                 27            0.0147702407     \n",
              "154 Eritrea                    398            0.0113808584     \n",
              "155 Burkina Faso              2167            0.0106636354     \n",
              "156 Mongolia                   314            0.0097358303     \n",
              "157 Chad                      1223            0.0076692022     \n",
              "158 China                    91170            0.0063586997     \n",
              "159 Papua New Guinea           541            0.0061644694     \n",
              "160 Thailand                  3600            0.0051705120     \n",
              "161 Niger                     1200            0.0051478506     \n",
              "162 Burundi                    514            0.0044577038     \n",
              "163 Fiji                        32            0.0035955056     \n",
              "164 Timor-Leste                 28            0.0021653391     \n",
              "165 Cambodia                   280            0.0016983593     \n",
              "166 Viet Nam                  1097            0.0011372342     \n",
              "167 Solomon Islands              1            0.0001492983     \n",
              "168 Cook Islands                 0            0.0000000000     \n",
              "169 Kiribati                     0            0.0000000000     \n",
              "170 Marshall Islands             0            0.0000000000     \n",
              "171 Nauru                        0            0.0000000000     \n",
              "172 Niue                         0            0.0000000000     \n",
              "173 Palau                        0            0.0000000000     \n",
              "174 Samoa                        0            0.0000000000     \n",
              "175 Tonga                        0            0.0000000000     \n",
              "176 Turkmenistan                 0            0.0000000000     \n",
              "177 Tuvalu                       0            0.0000000000     \n",
              "178 Vanuatu                      0            0.0000000000     \n",
              "    Health_Spend_Percent_GDP\n",
              "1    6.2930                 \n",
              "2    8.4938                 \n",
              "3   11.9277                 \n",
              "4   14.0176                 \n",
              "5   20.0809                 \n",
              "6    8.9203                 \n",
              "7   14.8979                 \n",
              "8   17.7318                 \n",
              "9   10.2553                 \n",
              "10  22.5492                 \n",
              "11  12.1587                 \n",
              "12   7.5657                 \n",
              "13  21.7775                 \n",
              "14   5.2735                 \n",
              "15  16.0513                 \n",
              "16  15.2847                 \n",
              "17  17.4857                 \n",
              "18  26.9071                 \n",
              "19  10.7956                 \n",
              "20  11.5824                 \n",
              "21  15.3139                 \n",
              "22   9.8551                 \n",
              "23  13.3386                 \n",
              "24  11.2508                 \n",
              "25  15.5982                 \n",
              "26   7.8905                 \n",
              "27  12.5689                 \n",
              "28   4.9836                 \n",
              "29  18.6949                 \n",
              "30  15.4681                 \n",
              "⋮   ⋮                       \n",
              "149  4.5752                 \n",
              "150  8.4724                 \n",
              "151  5.4284                 \n",
              "152  5.7852                 \n",
              "153  8.9358                 \n",
              "154  2.6767                 \n",
              "155  9.9915                 \n",
              "156  8.1525                 \n",
              "157  4.6784                 \n",
              "158  9.0721                 \n",
              "159  9.1550                 \n",
              "160 15.0278                 \n",
              "161  9.6507                 \n",
              "162  8.5214                 \n",
              "163  7.1619                 \n",
              "164  5.1873                 \n",
              "165  6.0787                 \n",
              "166  9.4756                 \n",
              "167  7.1658                 \n",
              "168  5.6772                 \n",
              "169  6.8516                 \n",
              "170  9.4874                 \n",
              "171  5.5962                 \n",
              "172  5.2038                 \n",
              "173 17.3856                 \n",
              "174 11.5777                 \n",
              "175  7.3840                 \n",
              "176  8.7139                 \n",
              "177 10.0000                 \n",
              "178  5.3016                 "
            ],
            "text/latex": "A tibble: 178 × 4\n\\begin{tabular}{llll}\n Country & Cumulative\\_cases & Cases\\_Percent\\_Pop & Health\\_Spend\\_Percent\\_GDP\\\\\n <chr> & <dbl> & <dbl> & <dbl>\\\\\n\\hline\n\t Qatar                    &  126692 & 4.4734296 &  6.2930\\\\\n\t Bahrain                  &   73116 & 4.4550329 &  8.4938\\\\\n\t Israel                   &  267848 & 3.1439773 & 11.9277\\\\\n\t Andorra                  &    2370 & 3.0739300 & 14.0176\\\\\n\t Panama                   &  115286 & 2.7149115 & 20.0809\\\\\n\t Kuwait                   &  107592 & 2.5573911 &  8.9203\\\\\n\t Peru                     &  828169 & 2.5473893 & 14.8979\\\\\n\t Chile                    &  471746 & 2.4891621 & 17.7318\\\\\n\t Brazil                   & 4915289 & 2.3289745 & 10.2553\\\\\n\t United States of America & 7341406 & 2.2309903 & 22.5492\\\\\n\t San Marino               &     751 & 2.2153392 & 12.1587\\\\\n\t Oman                     &  101814 & 2.0465126 &  7.5657\\\\\n\t Maldives                 &   10567 & 1.9900188 & 21.7775\\\\\n\t Armenia                  &   53083 & 1.7947392 &  5.2735\\\\\n\t Argentina                &  798486 & 1.7831030 & 16.0513\\\\\n\t Spain                    &  830092 & 1.7760993 & 15.2847\\\\\n\t Colombia                 &  855052 & 1.6985741 & 17.4857\\\\\n\t Costa Rica               &   80407 & 1.5929749 & 26.9071\\\\\n\t Luxembourg               &    8925 & 1.4495696 & 10.7956\\\\\n\t Republic of Moldova      &   56901 & 1.4072911 & 11.5824\\\\\n\t Belgium                  &  140721 & 1.2194934 & 15.3139\\\\\n\t Cabo Verde               &    6433 & 1.1698491 &  9.8551\\\\\n\t South Africa             &  682215 & 1.1650185 & 13.3386\\\\\n\t Bahamas                  &    4452 & 1.1430039 & 11.2508\\\\\n\t Dominican Republic       &  115054 & 1.0713660 & 15.5982\\\\\n\t United Arab Emirates     &   99733 & 1.0207564 &  7.8905\\\\\n\t Singapore                &   57819 & 0.9961408 & 12.5689\\\\\n\t Iraq                     &  382949 & 0.9741820 &  4.9836\\\\\n\t Sweden                   &   96169 & 0.9582021 & 18.6949\\\\\n\t France                   &  598061 & 0.9182616 & 15.4681\\\\\n\t ⋮ & ⋮ & ⋮ & ⋮\\\\\n\t Benin            &  2357 & 0.0199725452 &  4.5752\\\\\n\t Sri Lanka        &  3733 & 0.0175063427 &  8.4724\\\\\n\t Angola           &  5530 & 0.0173761127 &  5.4284\\\\\n\t Mali             &  3189 & 0.0162224031 &  5.7852\\\\\n\t Saint Lucia      &    27 & 0.0147702407 &  8.9358\\\\\n\t Eritrea          &   398 & 0.0113808584 &  2.6767\\\\\n\t Burkina Faso     &  2167 & 0.0106636354 &  9.9915\\\\\n\t Mongolia         &   314 & 0.0097358303 &  8.1525\\\\\n\t Chad             &  1223 & 0.0076692022 &  4.6784\\\\\n\t China            & 91170 & 0.0063586997 &  9.0721\\\\\n\t Papua New Guinea &   541 & 0.0061644694 &  9.1550\\\\\n\t Thailand         &  3600 & 0.0051705120 & 15.0278\\\\\n\t Niger            &  1200 & 0.0051478506 &  9.6507\\\\\n\t Burundi          &   514 & 0.0044577038 &  8.5214\\\\\n\t Fiji             &    32 & 0.0035955056 &  7.1619\\\\\n\t Timor-Leste      &    28 & 0.0021653391 &  5.1873\\\\\n\t Cambodia         &   280 & 0.0016983593 &  6.0787\\\\\n\t Viet Nam         &  1097 & 0.0011372342 &  9.4756\\\\\n\t Solomon Islands  &     1 & 0.0001492983 &  7.1658\\\\\n\t Cook Islands     &     0 & 0.0000000000 &  5.6772\\\\\n\t Kiribati         &     0 & 0.0000000000 &  6.8516\\\\\n\t Marshall Islands &     0 & 0.0000000000 &  9.4874\\\\\n\t Nauru            &     0 & 0.0000000000 &  5.5962\\\\\n\t Niue             &     0 & 0.0000000000 &  5.2038\\\\\n\t Palau            &     0 & 0.0000000000 & 17.3856\\\\\n\t Samoa            &     0 & 0.0000000000 & 11.5777\\\\\n\t Tonga            &     0 & 0.0000000000 &  7.3840\\\\\n\t Turkmenistan     &     0 & 0.0000000000 &  8.7139\\\\\n\t Tuvalu           &     0 & 0.0000000000 & 10.0000\\\\\n\t Vanuatu          &     0 & 0.0000000000 &  5.3016\\\\\n\\end{tabular}\n",
            "text/markdown": "\nA tibble: 178 × 4\n\n| Country &lt;chr&gt; | Cumulative_cases &lt;dbl&gt; | Cases_Percent_Pop &lt;dbl&gt; | Health_Spend_Percent_GDP &lt;dbl&gt; |\n|---|---|---|---|\n| Qatar                    |  126692 | 4.4734296 |  6.2930 |\n| Bahrain                  |   73116 | 4.4550329 |  8.4938 |\n| Israel                   |  267848 | 3.1439773 | 11.9277 |\n| Andorra                  |    2370 | 3.0739300 | 14.0176 |\n| Panama                   |  115286 | 2.7149115 | 20.0809 |\n| Kuwait                   |  107592 | 2.5573911 |  8.9203 |\n| Peru                     |  828169 | 2.5473893 | 14.8979 |\n| Chile                    |  471746 | 2.4891621 | 17.7318 |\n| Brazil                   | 4915289 | 2.3289745 | 10.2553 |\n| United States of America | 7341406 | 2.2309903 | 22.5492 |\n| San Marino               |     751 | 2.2153392 | 12.1587 |\n| Oman                     |  101814 | 2.0465126 |  7.5657 |\n| Maldives                 |   10567 | 1.9900188 | 21.7775 |\n| Armenia                  |   53083 | 1.7947392 |  5.2735 |\n| Argentina                |  798486 | 1.7831030 | 16.0513 |\n| Spain                    |  830092 | 1.7760993 | 15.2847 |\n| Colombia                 |  855052 | 1.6985741 | 17.4857 |\n| Costa Rica               |   80407 | 1.5929749 | 26.9071 |\n| Luxembourg               |    8925 | 1.4495696 | 10.7956 |\n| Republic of Moldova      |   56901 | 1.4072911 | 11.5824 |\n| Belgium                  |  140721 | 1.2194934 | 15.3139 |\n| Cabo Verde               |    6433 | 1.1698491 |  9.8551 |\n| South Africa             |  682215 | 1.1650185 | 13.3386 |\n| Bahamas                  |    4452 | 1.1430039 | 11.2508 |\n| Dominican Republic       |  115054 | 1.0713660 | 15.5982 |\n| United Arab Emirates     |   99733 | 1.0207564 |  7.8905 |\n| Singapore                |   57819 | 0.9961408 | 12.5689 |\n| Iraq                     |  382949 | 0.9741820 |  4.9836 |\n| Sweden                   |   96169 | 0.9582021 | 18.6949 |\n| France                   |  598061 | 0.9182616 | 15.4681 |\n| ⋮ | ⋮ | ⋮ | ⋮ |\n| Benin            |  2357 | 0.0199725452 |  4.5752 |\n| Sri Lanka        |  3733 | 0.0175063427 |  8.4724 |\n| Angola           |  5530 | 0.0173761127 |  5.4284 |\n| Mali             |  3189 | 0.0162224031 |  5.7852 |\n| Saint Lucia      |    27 | 0.0147702407 |  8.9358 |\n| Eritrea          |   398 | 0.0113808584 |  2.6767 |\n| Burkina Faso     |  2167 | 0.0106636354 |  9.9915 |\n| Mongolia         |   314 | 0.0097358303 |  8.1525 |\n| Chad             |  1223 | 0.0076692022 |  4.6784 |\n| China            | 91170 | 0.0063586997 |  9.0721 |\n| Papua New Guinea |   541 | 0.0061644694 |  9.1550 |\n| Thailand         |  3600 | 0.0051705120 | 15.0278 |\n| Niger            |  1200 | 0.0051478506 |  9.6507 |\n| Burundi          |   514 | 0.0044577038 |  8.5214 |\n| Fiji             |    32 | 0.0035955056 |  7.1619 |\n| Timor-Leste      |    28 | 0.0021653391 |  5.1873 |\n| Cambodia         |   280 | 0.0016983593 |  6.0787 |\n| Viet Nam         |  1097 | 0.0011372342 |  9.4756 |\n| Solomon Islands  |     1 | 0.0001492983 |  7.1658 |\n| Cook Islands     |     0 | 0.0000000000 |  5.6772 |\n| Kiribati         |     0 | 0.0000000000 |  6.8516 |\n| Marshall Islands |     0 | 0.0000000000 |  9.4874 |\n| Nauru            |     0 | 0.0000000000 |  5.5962 |\n| Niue             |     0 | 0.0000000000 |  5.2038 |\n| Palau            |     0 | 0.0000000000 | 17.3856 |\n| Samoa            |     0 | 0.0000000000 | 11.5777 |\n| Tonga            |     0 | 0.0000000000 |  7.3840 |\n| Turkmenistan     |     0 | 0.0000000000 |  8.7139 |\n| Tuvalu           |     0 | 0.0000000000 | 10.0000 |\n| Vanuatu          |     0 | 0.0000000000 |  5.3016 |\n\n",
            "text/html": [
              "<table>\n",
              "<caption>A tibble: 178 × 4</caption>\n",
              "<thead>\n",
              "\t<tr><th scope=col>Country</th><th scope=col>Cumulative_cases</th><th scope=col>Cases_Percent_Pop</th><th scope=col>Health_Spend_Percent_GDP</th></tr>\n",
              "\t<tr><th scope=col>&lt;chr&gt;</th><th scope=col>&lt;dbl&gt;</th><th scope=col>&lt;dbl&gt;</th><th scope=col>&lt;dbl&gt;</th></tr>\n",
              "</thead>\n",
              "<tbody>\n",
              "\t<tr><td>Qatar                   </td><td> 126692</td><td>4.4734296</td><td> 6.2930</td></tr>\n",
              "\t<tr><td>Bahrain                 </td><td>  73116</td><td>4.4550329</td><td> 8.4938</td></tr>\n",
              "\t<tr><td>Israel                  </td><td> 267848</td><td>3.1439773</td><td>11.9277</td></tr>\n",
              "\t<tr><td>Andorra                 </td><td>   2370</td><td>3.0739300</td><td>14.0176</td></tr>\n",
              "\t<tr><td>Panama                  </td><td> 115286</td><td>2.7149115</td><td>20.0809</td></tr>\n",
              "\t<tr><td>Kuwait                  </td><td> 107592</td><td>2.5573911</td><td> 8.9203</td></tr>\n",
              "\t<tr><td>Peru                    </td><td> 828169</td><td>2.5473893</td><td>14.8979</td></tr>\n",
              "\t<tr><td>Chile                   </td><td> 471746</td><td>2.4891621</td><td>17.7318</td></tr>\n",
              "\t<tr><td>Brazil                  </td><td>4915289</td><td>2.3289745</td><td>10.2553</td></tr>\n",
              "\t<tr><td>United States of America</td><td>7341406</td><td>2.2309903</td><td>22.5492</td></tr>\n",
              "\t<tr><td>San Marino              </td><td>    751</td><td>2.2153392</td><td>12.1587</td></tr>\n",
              "\t<tr><td>Oman                    </td><td> 101814</td><td>2.0465126</td><td> 7.5657</td></tr>\n",
              "\t<tr><td>Maldives                </td><td>  10567</td><td>1.9900188</td><td>21.7775</td></tr>\n",
              "\t<tr><td>Armenia                 </td><td>  53083</td><td>1.7947392</td><td> 5.2735</td></tr>\n",
              "\t<tr><td>Argentina               </td><td> 798486</td><td>1.7831030</td><td>16.0513</td></tr>\n",
              "\t<tr><td>Spain                   </td><td> 830092</td><td>1.7760993</td><td>15.2847</td></tr>\n",
              "\t<tr><td>Colombia                </td><td> 855052</td><td>1.6985741</td><td>17.4857</td></tr>\n",
              "\t<tr><td>Costa Rica              </td><td>  80407</td><td>1.5929749</td><td>26.9071</td></tr>\n",
              "\t<tr><td>Luxembourg              </td><td>   8925</td><td>1.4495696</td><td>10.7956</td></tr>\n",
              "\t<tr><td>Republic of Moldova     </td><td>  56901</td><td>1.4072911</td><td>11.5824</td></tr>\n",
              "\t<tr><td>Belgium                 </td><td> 140721</td><td>1.2194934</td><td>15.3139</td></tr>\n",
              "\t<tr><td>Cabo Verde              </td><td>   6433</td><td>1.1698491</td><td> 9.8551</td></tr>\n",
              "\t<tr><td>South Africa            </td><td> 682215</td><td>1.1650185</td><td>13.3386</td></tr>\n",
              "\t<tr><td>Bahamas                 </td><td>   4452</td><td>1.1430039</td><td>11.2508</td></tr>\n",
              "\t<tr><td>Dominican Republic      </td><td> 115054</td><td>1.0713660</td><td>15.5982</td></tr>\n",
              "\t<tr><td>United Arab Emirates    </td><td>  99733</td><td>1.0207564</td><td> 7.8905</td></tr>\n",
              "\t<tr><td>Singapore               </td><td>  57819</td><td>0.9961408</td><td>12.5689</td></tr>\n",
              "\t<tr><td>Iraq                    </td><td> 382949</td><td>0.9741820</td><td> 4.9836</td></tr>\n",
              "\t<tr><td>Sweden                  </td><td>  96169</td><td>0.9582021</td><td>18.6949</td></tr>\n",
              "\t<tr><td>France                  </td><td> 598061</td><td>0.9182616</td><td>15.4681</td></tr>\n",
              "\t<tr><td>⋮</td><td>⋮</td><td>⋮</td><td>⋮</td></tr>\n",
              "\t<tr><td>Benin           </td><td> 2357</td><td>0.0199725452</td><td> 4.5752</td></tr>\n",
              "\t<tr><td>Sri Lanka       </td><td> 3733</td><td>0.0175063427</td><td> 8.4724</td></tr>\n",
              "\t<tr><td>Angola          </td><td> 5530</td><td>0.0173761127</td><td> 5.4284</td></tr>\n",
              "\t<tr><td>Mali            </td><td> 3189</td><td>0.0162224031</td><td> 5.7852</td></tr>\n",
              "\t<tr><td>Saint Lucia     </td><td>   27</td><td>0.0147702407</td><td> 8.9358</td></tr>\n",
              "\t<tr><td>Eritrea         </td><td>  398</td><td>0.0113808584</td><td> 2.6767</td></tr>\n",
              "\t<tr><td>Burkina Faso    </td><td> 2167</td><td>0.0106636354</td><td> 9.9915</td></tr>\n",
              "\t<tr><td>Mongolia        </td><td>  314</td><td>0.0097358303</td><td> 8.1525</td></tr>\n",
              "\t<tr><td>Chad            </td><td> 1223</td><td>0.0076692022</td><td> 4.6784</td></tr>\n",
              "\t<tr><td>China           </td><td>91170</td><td>0.0063586997</td><td> 9.0721</td></tr>\n",
              "\t<tr><td>Papua New Guinea</td><td>  541</td><td>0.0061644694</td><td> 9.1550</td></tr>\n",
              "\t<tr><td>Thailand        </td><td> 3600</td><td>0.0051705120</td><td>15.0278</td></tr>\n",
              "\t<tr><td>Niger           </td><td> 1200</td><td>0.0051478506</td><td> 9.6507</td></tr>\n",
              "\t<tr><td>Burundi         </td><td>  514</td><td>0.0044577038</td><td> 8.5214</td></tr>\n",
              "\t<tr><td>Fiji            </td><td>   32</td><td>0.0035955056</td><td> 7.1619</td></tr>\n",
              "\t<tr><td>Timor-Leste     </td><td>   28</td><td>0.0021653391</td><td> 5.1873</td></tr>\n",
              "\t<tr><td>Cambodia        </td><td>  280</td><td>0.0016983593</td><td> 6.0787</td></tr>\n",
              "\t<tr><td>Viet Nam        </td><td> 1097</td><td>0.0011372342</td><td> 9.4756</td></tr>\n",
              "\t<tr><td>Solomon Islands </td><td>    1</td><td>0.0001492983</td><td> 7.1658</td></tr>\n",
              "\t<tr><td>Cook Islands    </td><td>    0</td><td>0.0000000000</td><td> 5.6772</td></tr>\n",
              "\t<tr><td>Kiribati        </td><td>    0</td><td>0.0000000000</td><td> 6.8516</td></tr>\n",
              "\t<tr><td>Marshall Islands</td><td>    0</td><td>0.0000000000</td><td> 9.4874</td></tr>\n",
              "\t<tr><td>Nauru           </td><td>    0</td><td>0.0000000000</td><td> 5.5962</td></tr>\n",
              "\t<tr><td>Niue            </td><td>    0</td><td>0.0000000000</td><td> 5.2038</td></tr>\n",
              "\t<tr><td>Palau           </td><td>    0</td><td>0.0000000000</td><td>17.3856</td></tr>\n",
              "\t<tr><td>Samoa           </td><td>    0</td><td>0.0000000000</td><td>11.5777</td></tr>\n",
              "\t<tr><td>Tonga           </td><td>    0</td><td>0.0000000000</td><td> 7.3840</td></tr>\n",
              "\t<tr><td>Turkmenistan    </td><td>    0</td><td>0.0000000000</td><td> 8.7139</td></tr>\n",
              "\t<tr><td>Tuvalu          </td><td>    0</td><td>0.0000000000</td><td>10.0000</td></tr>\n",
              "\t<tr><td>Vanuatu         </td><td>    0</td><td>0.0000000000</td><td> 5.3016</td></tr>\n",
              "</tbody>\n",
              "</table>\n"
            ]
          },
          "metadata": {
            "tags": []
          }
        }
      ]
    },
    {
      "cell_type": "code",
      "metadata": {
        "id": "d7iBv__rwVE6"
      },
      "source": [
        "options(repr.plot.width=15, repr.plot.height=8)"
      ],
      "execution_count": null,
      "outputs": []
    },
    {
      "cell_type": "code",
      "metadata": {
        "id": "0XqKsQyAMoFC",
        "outputId": "6773db76-e356-48a8-f906-6fdd4dc93970",
        "colab": {
          "base_uri": "https://localhost:8080/",
          "height": 497
        }
      },
      "source": [
        "covid_plot <- ordered_df %>%\n",
        "  top_n(10, Cases_Percent_Pop) %>%\n",
        "  ggplot(\n",
        "    aes(\n",
        "      x = Cases_Percent_Pop, y = Health_Spend_Percent_GDP, colour=Country)) +\n",
        "      geom_point(alpha = 0.6) +\n",
        "      labs(\n",
        "        title = \"COVID-19 Cases (%Population) vs Annual Health Spend (%GDP)\", \n",
        "      y = \"Health Spend (%GDP)\", \n",
        "      x = \"COVID-19 Cases (%Population)\",\n",
        "      colour = \"Country\") +\n",
        "      theme(\n",
        "        plot.title = element_text(face = \"bold\", hjust = 0.5)\n",
        "      )\n",
        "\n",
        "\n",
        " covid_plot "
      ],
      "execution_count": null,
      "outputs": [
        {
          "output_type": "display_data",
          "data": {
            "image/png": "[encoded data removed]",
            "text/plain": [
              "plot without title"
            ]
          },
          "metadata": {
            "tags": [],
            "image/png": {
              "width": 900,
              "height": 480
            }
          }
        }
      ]
    }
  ]
}